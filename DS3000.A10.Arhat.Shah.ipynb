{
 "cells": [
  {
   "attachments": {},
   "cell_type": "markdown",
   "metadata": {},
   "source": [
    "# Assignment 10 Arhat Shah"
   ]
  },
  {
   "cell_type": "code",
   "execution_count": 1,
   "metadata": {},
   "outputs": [],
   "source": [
    "import pandas as pd\n",
    "import numpy as np\n",
    "\n",
    "from sklearn.ensemble import RandomForestRegressor\n",
    "from sklearn.model_selection import train_test_split\n",
    "from sklearn.metrics import mean_squared_error, r2_score\n",
    "from sklearn.preprocessing import LabelEncoder\n"
   ]
  },
  {
   "cell_type": "code",
   "execution_count": 5,
   "metadata": {},
   "outputs": [],
   "source": [
    "tripdata_df = pd.read_parquet(path = 'https://d37ci6vzurychx.cloudfront.net/trip-data/green_tripdata_2020-02.parquet', #provide the URL to the data source\n",
    "                      engine = 'fastparquet')\n",
    "\n",
    "# Include any previous data preparation steps, EDA and visualizations. Its ok to copy and paste your code. \n",
    "# However, ensure that you update the code based on the previous feedback from the TAs.\n",
    "\n",
    "# Commented out print statements are used to check the data set and the data types of the variables.\n",
    "\n",
    "# print(\"dimensions: \", tripdata_df.shape)\n",
    "# print(tripdata_df.dtypes)\n",
    "\n",
    "# The variables do not all have proper types. \n",
    "# The variables without suitable types: RatecodeID, passenger_count, trip_type, and payment_type. \n",
    "\n",
    "# print(tripdata_df.isnull().sum())\n",
    "\n",
    "# Missing values are a widspread issue because multiple columns have null values \n",
    "# The method that can be used to handle missing data is to delete the observations with the missing values. \n",
    "\n",
    "# The ehail_fee does not need to be included in the data set because all values are null. \n",
    "# print(tripdata_df.loc[:,'ehail_fee'])\n",
    "\n",
    "# Congestion_surcharge is not included in the data dictionary \n",
    "# print(tripdata_df.loc[:,'congestion_surcharge'])\n",
    "\n",
    "# There are trip total amounts that are negative \n",
    "# print(tripdata_df.loc[tripdata_df['total_amount'] < 0.00, :])\n",
    "\n",
    "# deleting missing and invalid data \n",
    "tripdata_df = tripdata_df[tripdata_df.isnull().sum(axis=1) < 4] \n",
    "tripdata_df.drop(columns = ['ehail_fee', 'congestion_surcharge']) \n",
    "\n",
    "# make the variables to have proper types \n",
    "tripdata_df['store_and_fwd_flag'] = tripdata_df['store_and_fwd_flag'].astype('str') \n",
    "tripdata_df['payment_type'] = tripdata_df['payment_type'].astype(int) \n",
    "tripdata_df['RatecodeID'] = tripdata_df['RatecodeID'].astype(int) \n",
    "tripdata_df['passenger_count'] = tripdata_df['passenger_count'].astype(int) \n",
    "tripdata_df['trip_type'] = tripdata_df['trip_type'].fillna(0).astype(int) \n",
    "\n",
    "# Drop any rows with null values in tip_amount\n",
    "tripdata_df.dropna(subset=['tip_amount'], inplace=True)\n",
    "\n",
    "\n",
    "# negative total amounts removed \n",
    "tripdata_df = tripdata_df[tripdata_df['total_amount'] > 0]"
   ]
  },
  {
   "cell_type": "code",
   "execution_count": 6,
   "metadata": {},
   "outputs": [],
   "source": [
    "# Select the required features to build your model based on the insights from your EDA. \n",
    "# Briefly explain the reason for the features that you selected. \n",
    "# Ensure that you encode any categorical features.\n",
    "\n",
    "features = ['RatecodeID', 'passenger_count', 'trip_distance', 'PULocationID', 'DOLocationID']\n",
    "\n",
    "# The reason these features were selected is because they all can potentially affect the tip amount.\n",
    "\n",
    "# Selecting target variable\n",
    "target = 'tip_amount'\n",
    "\n",
    "# select only requied features and target variable\n",
    "tripdata_df = tripdata_df[features + [target]]\n",
    "\n",
    "# encode any categorical features \n",
    "label_encoders = {}\n",
    "for feature in ['RatecodeID', 'PULocationID', 'DOLocationID']:\n",
    "    label_encoders[feature] = LabelEncoder()\n",
    "\n",
    "for feature, encoder in label_encoders.items():\n",
    "    tripdata_df[feature] = encoder.fit_transform(tripdata_df[feature].astype(str))\n",
    "\n"
   ]
  },
  {
   "cell_type": "code",
   "execution_count": 7,
   "metadata": {},
   "outputs": [],
   "source": [
    "# Partition the data into train/test split.\n",
    "X_train, X_test, y_train, y_test = train_test_split(tripdata_df.drop('tip_amount', axis=1), tripdata_df['tip_amount'], test_size=0.2, random_state=42)\n"
   ]
  },
  {
   "cell_type": "code",
   "execution_count": 8,
   "metadata": {},
   "outputs": [
    {
     "name": "stdout",
     "output_type": "stream",
     "text": [
      "Mean Squared Error: 9.768485542098125\n",
      "R-squared: 0.05030988435573991\n"
     ]
    }
   ],
   "source": [
    "# Build a model that predicts the tip amount.\n",
    "\n",
    "# Create model\n",
    "rf_reg = RandomForestRegressor(n_estimators=100, random_state=42)\n",
    "\n",
    "# Fit model\n",
    "rf_reg.fit(X_train, y_train)\n",
    "\n",
    "# Predict\n",
    "y_pred = rf_reg.predict(X_test)\n",
    "\n",
    "# Evaluate the model using mean squared error\n",
    "mse = mean_squared_error(y_test, y_pred)\n",
    "r2 = r2_score(y_test, y_pred)\n",
    "print(\"Mean Squared Error:\", mse)\n",
    "print(\"R-squared:\", r2)"
   ]
  },
  {
   "attachments": {},
   "cell_type": "markdown",
   "metadata": {},
   "source": [
    "### Evaluate the predictions from your model and comment on the results. Ensure that you choose the correct metric. Remember that we evaluate models differently depending on the task, i.e. classification or regression.\n",
    "\n",
    "We assessed our regression model by utilizing mean squared error (MSE) as the evaluative criteria. Our model obtained an MSE of 9.77, indicating that the average gap between the projected and actual tip amount was roughly 9.77 dollars. Typically, a lower MSE score suggests a better model, but this varies according to the situation and the degree of precision required. As a result, there is room for enhancing this model to decrease the MSE."
   ]
  },
  {
   "attachments": {},
   "cell_type": "markdown",
   "metadata": {},
   "source": [
    "### How do you feel about the model? Does it do a good job of predicting the tip_amount?\n",
    "\n",
    "In general, the model requires modifications as its mean squared error (MSE) of 9.77 can be lowered for more accurate predictions. Additionally, its important that the model's data originates from just one month and the effectiveness could differ if the data was from a different month. For example, the model may be more accurate if the data was from a month with a higher average tip amount. However, it can be improved to be more accurate."
   ]
  },
  {
   "cell_type": "code",
   "execution_count": 9,
   "metadata": {},
   "outputs": [
    {
     "name": "stdout",
     "output_type": "stream",
     "text": [
      "Mean Squared Error (n_estimators=50): 9.79343792148943\n",
      "R-squared (n_estimators=50): 0.04788401926461572\n",
      "Mean Squared Error (n_estimators=500): 9.737126599221279\n",
      "R-squared (n_estimators=200): 0.05335859420527067\n",
      "Mean Squared Error (n_estimators=1000): 9.726635585151305\n",
      "R-squared (n_estimators=400): 0.05437852839285806\n"
     ]
    }
   ],
   "source": [
    "# Tweak the model\n",
    "\n",
    "# Create a random forest regressor with 50 trees\n",
    "rf = RandomForestRegressor(n_estimators=50, random_state=42)\n",
    "\n",
    "# Fit the model on the training data\n",
    "rf.fit(X_train, y_train)\n",
    "\n",
    "# Make predictions on the test set\n",
    "y_pred = rf.predict(X_test)\n",
    "\n",
    "# Evaluate the model using mean squared error and R-squared\n",
    "mse = mean_squared_error(y_test, y_pred)\n",
    "r2 = r2_score(y_test, y_pred)\n",
    "\n",
    "print(\"Mean Squared Error (n_estimators=50):\", mse)\n",
    "print(\"R-squared (n_estimators=50):\", r2)\n",
    "\n",
    "# Create a random forest regressor with 200 trees\n",
    "rf = RandomForestRegressor(n_estimators=500, random_state=42)\n",
    "\n",
    "# Fit the model on the training data\n",
    "rf.fit(X_train, y_train)\n",
    "\n",
    "# Make predictions on the test set\n",
    "y_pred = rf.predict(X_test)\n",
    "\n",
    "# Evaluate the model using mean squared error and R-squared\n",
    "mse = mean_squared_error(y_test, y_pred)\n",
    "r2 = r2_score(y_test, y_pred)\n",
    "\n",
    "print(\"Mean Squared Error (n_estimators=500):\", mse)\n",
    "print(\"R-squared (n_estimators=200):\", r2)\n",
    "\n",
    "# Create a random forest regressor with 400 trees\n",
    "rf = RandomForestRegressor(n_estimators=1000, random_state=42)\n",
    "\n",
    "# Fit the model on the training data\n",
    "rf.fit(X_train, y_train)\n",
    "\n",
    "# Make predictions on the test set\n",
    "y_pred = rf.predict(X_test)\n",
    "\n",
    "# Evaluate the model using mean squared error and R-squared\n",
    "mse = mean_squared_error(y_test, y_pred)\n",
    "r2 = r2_score(y_test, y_pred)\n",
    "\n",
    "print(\"Mean Squared Error (n_estimators=1000):\", mse)\n",
    "print(\"R-squared (n_estimators=400):\", r2)"
   ]
  },
  {
   "attachments": {},
   "cell_type": "markdown",
   "metadata": {},
   "source": [
    "As the n_estimators parameter increases, the MSE decreases, meaning the model is improving. This is because the model is more accurate as it is able to predict the tip amount more accurately. However, the changes in the MSE are not extremely significant as the MSE decreases from 9.79 to 9.72, only a .07 difference."
   ]
  },
  {
   "cell_type": "code",
   "execution_count": 10,
   "metadata": {},
   "outputs": [
    {
     "name": "stdout",
     "output_type": "stream",
     "text": [
      "           feature  importance\n",
      "2    trip_distance    0.504239\n",
      "4     DOLocationID    0.230406\n",
      "3     PULocationID    0.186424\n",
      "1  passenger_count    0.052820\n",
      "0       RatecodeID    0.026111\n"
     ]
    }
   ],
   "source": [
    "# Bonus: The Random forest has a method that returns the importance of each feature in your model. \n",
    "# Can you find out which of your selected features were the most important when making the predictions?\n",
    "\n",
    "# random forest model\n",
    "rf = RandomForestRegressor(n_estimators=100, random_state=42)\n",
    "rf.fit(X_train, y_train)\n",
    "\n",
    "# Get importance scores of features\n",
    "importances = rf.feature_importances_\n",
    "\n",
    "# datafram with feature names and importance scores\n",
    "feature_importances = pd.DataFrame({'feature': X_train.columns, 'importance': importances})\n",
    "\n",
    "# Sort the DataFrame by importance score in descending order\n",
    "feature_importances = feature_importances.sort_values('importance', ascending=False)\n",
    "\n",
    "# Print out the feature importances\n",
    "print(feature_importances)"
   ]
  }
 ],
 "metadata": {
  "kernelspec": {
   "display_name": "Python 3",
   "language": "python",
   "name": "python3"
  },
  "language_info": {
   "codemirror_mode": {
    "name": "ipython",
    "version": 3
   },
   "file_extension": ".py",
   "mimetype": "text/x-python",
   "name": "python",
   "nbconvert_exporter": "python",
   "pygments_lexer": "ipython3",
   "version": "3.10.5"
  },
  "orig_nbformat": 4
 },
 "nbformat": 4,
 "nbformat_minor": 2
}
