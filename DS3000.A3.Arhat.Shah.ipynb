{
 "cells": [
  {
   "attachments": {},
   "cell_type": "markdown",
   "metadata": {},
   "source": [
    "# Arhat Shah Assignment 3\n"
   ]
  },
  {
   "attachments": {},
   "cell_type": "markdown",
   "metadata": {},
   "source": [
    "### Question 1"
   ]
  },
  {
   "cell_type": "code",
   "execution_count": 1,
   "metadata": {},
   "outputs": [
    {
     "name": "stdout",
     "output_type": "stream",
     "text": [
      "There are 233 observations and 5 columns in the data set.\n",
      "The maximum overall course grade is 97.5667 and the minimum overall course grade is grade is 43.2733.\n",
      "The data covers the following years:\n",
      "2000\n",
      "2001\n",
      "2002\n",
      "2003\n",
      "In 2000, 86 students took the course.\n",
      "In 2001, 75 students took the course.\n",
      "In 2002, 36 students took the course.\n",
      "In 2003, 36 students took the course.\n",
      "Exam 1 data 2000: min = 46.5, max = 96.0, mean = 74.48572906976743, standard deviation = 11.394237808614985\n",
      "Exam 2 data 2000: min = 41.0, max = 99.5, mean = 74.18604651162791, standard deviation = 13.023915058065189\n",
      "Exam 3 data 2000: min = 28.0, max = 97.0, mean = 73.23255813953489, standard deviation = 15.704128044624722\n",
      "\n",
      "\n",
      "Exam 1 data 2001: min = 58.0, max = 98.0, mean = 85.00566666666667, standard deviation = 8.365881676322122\n",
      "Exam 2 data 2001: min = 41.5, max = 96.5, mean = 71.36133333333332, standard deviation = 13.2655834733678\n",
      "Exam 3 data 2001: min = 36.4, max = 98.5, mean = 72.74133333333334, standard deviation = 13.193443759012363\n",
      "\n",
      "\n",
      "Exam 1 data 2002: min = 59.0, max = 99.3, mean = 82.11666666666667, standard deviation = 9.800382645590936\n",
      "Exam 2 data 2002: min = 47.0, max = 98.0, mean = 76.26944444444445, standard deviation = 13.774913176666173\n",
      "Exam 3 data 2002: min = 58.0, max = 98.5, mean = 84.92222222222223, standard deviation = 7.7870658827140025\n",
      "\n",
      "\n",
      "Exam 1 data 2003: min = 0.0, max = 98.2143, mean = 83.34325833333332, standard deviation = 16.585723842968335\n",
      "Exam 2 data 2003: min = 38.0, max = 94.5, mean = 67.75833333333333, standard deviation = 14.682990442458694\n",
      "Exam 3 data 2003: min = 30.0, max = 98.8889, mean = 77.10956388888889, standard deviation = 16.184537776500562\n"
     ]
    }
   ],
   "source": [
    "import numpy as np\n",
    "\n",
    "# Load the data set\n",
    "data = np.loadtxt('exam_grades.csv', delimiter=',', skiprows = 1) \n",
    "\n",
    "# How many observations and columns are in the data set?\n",
    "data_shape = data.shape\n",
    "print(\"There are {} observations and {} columns in the data set.\".format(data_shape[0], data_shape[1]))\n",
    "\n",
    "# What is the minimum and maximum overall course grade\n",
    "max_grade = np.max(data[:,4])\n",
    "min_grade = np.min(data[:,4])\n",
    "print(\"The maximum overall course grade is {} and the minimum overall course grade is grade is {}.\".\n",
    "      format(max_grade, min_grade))\n",
    "\n",
    "# What time period does the data set cover?\n",
    "print(\"The data covers the following years:\")\n",
    "for i in range(data.shape[0]):\n",
    "    year = int(data[i,0])\n",
    "    if (year != data[i-1,0]):\n",
    "        print(year)\n",
    "\n",
    "# For each year that you identified above, count the number of students who took the course each year.\n",
    "for i in range(data.shape[0]):\n",
    "    year = int(data[i,0])\n",
    "    if (year != data[i-1,0]):\n",
    "        print(\"In {}, {} students took the course.\".format(year, sum(data[:,0] == year)))\n",
    "\n",
    "# For each year that you identified above \n",
    "# calculate the minimum, maximum, mean and standard deviation for each of the three exam scores\n",
    "# split the data into yearly data sets\n",
    "data_2000 = data[data[:,0] == 2000]\n",
    "data_2001 = data[data[:,0] == 2001]\n",
    "data_2002 = data[data[:,0] == 2002]\n",
    "data_2003 = data[data[:,0] == 2003]\n",
    "\n",
    "exams_2000_data = [[np.min(data_2000[:,1]), np.max(data_2000[:,1]), np.mean(data_2000[:,1]), np.std(data_2000[:,1])],\n",
    "                   [np.min(data_2000[:,2]), np.max(data_2000[:,2]), np.mean(data_2000[:,2]), np.std(data_2000[:,2])],\n",
    "                   [np.min(data_2000[:,3]), np.max(data_2000[:,3]), np.mean(data_2000[:,3]), np.std(data_2000[:,3])]]\n",
    "\n",
    "exams_2001_data = [[np.min(data_2001[:,1]), np.max(data_2001[:,1]), np.mean(data_2001[:,1]), np.std(data_2001[:,1])],\n",
    "                   [np.min(data_2001[:,2]), np.max(data_2001[:,2]), np.mean(data_2001[:,2]), np.std(data_2001[:,2])],\n",
    "                   [np.min(data_2001[:,3]), np.max(data_2001[:,3]), np.mean(data_2001[:,3]), np.std(data_2001[:,3])]]\n",
    "\n",
    "exams_2002_data = [[np.min(data_2002[:,1]), np.max(data_2002[:,1]), np.mean(data_2002[:,1]), np.std(data_2002[:,1])],\n",
    "                   [np.min(data_2002[:,2]), np.max(data_2002[:,2]), np.mean(data_2002[:,2]), np.std(data_2002[:,2])],\n",
    "                   [np.min(data_2002[:,3]), np.max(data_2002[:,3]), np.mean(data_2002[:,3]), np.std(data_2002[:,3])]]\n",
    "\n",
    "exams_2003_data = [[np.min(data_2003[:,1]), np.max(data_2003[:,1]), np.mean(data_2003[:,1]), np.std(data_2003[:,1])],\n",
    "                   [np.min(data_2003[:,2]), np.max(data_2003[:,2]), np.mean(data_2003[:,2]), np.std(data_2003[:,2])],\n",
    "                   [np.min(data_2003[:,3]), np.max(data_2003[:,3]), np.mean(data_2003[:,3]), np.std(data_2003[:,3])]]\n",
    "\n",
    "print(\"Exam 1 data 2000: min = {}, max = {}, mean = {}, standard deviation = {}\"\n",
    "      .format(exams_2000_data[0][0], exams_2000_data[0][1], exams_2000_data[0][2], exams_2000_data[0][3]))\n",
    "print(\"Exam 2 data 2000: min = {}, max = {}, mean = {}, standard deviation = {}\"\n",
    "      .format(exams_2000_data[1][0], exams_2000_data[1][1], exams_2000_data[1][2], exams_2000_data[1][3]))\n",
    "print(\"Exam 3 data 2000: min = {}, max = {}, mean = {}, standard deviation = {}\"\n",
    "      .format(exams_2000_data[2][0], exams_2000_data[2][1], exams_2000_data[2][2], exams_2000_data[2][3]))\n",
    "print(\"\\n\")\n",
    "print(\"Exam 1 data 2001: min = {}, max = {}, mean = {}, standard deviation = {}\"\n",
    "      .format(exams_2001_data[0][0], exams_2001_data[0][1], exams_2001_data[0][2], exams_2001_data[0][3]))\n",
    "print(\"Exam 2 data 2001: min = {}, max = {}, mean = {}, standard deviation = {}\"\n",
    "      .format(exams_2001_data[1][0], exams_2001_data[1][1], exams_2001_data[1][2], exams_2001_data[1][3]))\n",
    "print(\"Exam 3 data 2001: min = {}, max = {}, mean = {}, standard deviation = {}\"\n",
    "      .format(exams_2001_data[2][0], exams_2001_data[2][1], exams_2001_data[2][2], exams_2001_data[2][3]))\n",
    "print(\"\\n\")\n",
    "print(\"Exam 1 data 2002: min = {}, max = {}, mean = {}, standard deviation = {}\"\n",
    "      .format(exams_2002_data[0][0], exams_2002_data[0][1], exams_2002_data[0][2], exams_2002_data[0][3]))\n",
    "print(\"Exam 2 data 2002: min = {}, max = {}, mean = {}, standard deviation = {}\"\n",
    "      .format(exams_2002_data[1][0], exams_2002_data[1][1], exams_2002_data[1][2], exams_2002_data[1][3]))\n",
    "print(\"Exam 3 data 2002: min = {}, max = {}, mean = {}, standard deviation = {}\"\n",
    "      .format(exams_2002_data[2][0], exams_2002_data[2][1], exams_2002_data[2][2], exams_2002_data[2][3]))\n",
    "print(\"\\n\")\n",
    "print(\"Exam 1 data 2003: min = {}, max = {}, mean = {}, standard deviation = {}\"\n",
    "      .format(exams_2003_data[0][0], exams_2003_data[0][1], exams_2003_data[0][2], exams_2003_data[0][3]))\n",
    "print(\"Exam 2 data 2003: min = {}, max = {}, mean = {}, standard deviation = {}\"\n",
    "      .format(exams_2003_data[1][0], exams_2003_data[1][1], exams_2003_data[1][2], exams_2003_data[1][3]))\n",
    "print(\"Exam 3 data 2003: min = {}, max = {}, mean = {}, standard deviation = {}\"\n",
    "      .format(exams_2003_data[2][0], exams_2003_data[2][1], exams_2003_data[2][2], exams_2003_data[2][3]))\n",
    "\n",
    "\n",
    "\n"
   ]
  },
  {
   "attachments": {},
   "cell_type": "markdown",
   "metadata": {},
   "source": [
    "### Question 2"
   ]
  },
  {
   "attachments": {},
   "cell_type": "markdown",
   "metadata": {},
   "source": [
    "- Numpy requires all elements to be of the same data type, while python lists can have different data types\n",
    "- Numpy can perform operations to elements of the list, while lists append/concatenate/duplicates\n",
    "- both have built in methods"
   ]
  },
  {
   "cell_type": "code",
   "execution_count": 23,
   "metadata": {},
   "outputs": [
    {
     "name": "stdout",
     "output_type": "stream",
     "text": [
      "array 2x:  [ 2  4  6  8 10]\n",
      "list 2x:  [1, 2, 3, 4, 5, 1, 2, 3, 4, 5]\n"
     ]
    }
   ],
   "source": [
    "#numpy array\n",
    "array = np.arange(1,6)\n",
    "\n",
    "#python list\n",
    "list = [1, 2, 3, 4, 5]\n",
    "\n",
    "#multiply each \"list\" by 2\n",
    "array_2x = array * 2 \n",
    "print(\"array 2x: \", array_2x)\n",
    "\n",
    "\n",
    "list_2x = list * 2\n",
    "print(\"list 2x: \", list_2x)"
   ]
  }
 ],
 "metadata": {
  "kernelspec": {
   "display_name": "Python 3",
   "language": "python",
   "name": "python3"
  },
  "language_info": {
   "codemirror_mode": {
    "name": "ipython",
    "version": 3
   },
   "file_extension": ".py",
   "mimetype": "text/x-python",
   "name": "python",
   "nbconvert_exporter": "python",
   "pygments_lexer": "ipython3",
   "version": "3.10.5"
  },
  "orig_nbformat": 4,
  "vscode": {
   "interpreter": {
    "hash": "aee8b7b246df8f9039afb4144a1f6fd8d2ca17a180786b69acc140d282b71a49"
   }
  }
 },
 "nbformat": 4,
 "nbformat_minor": 2
}
